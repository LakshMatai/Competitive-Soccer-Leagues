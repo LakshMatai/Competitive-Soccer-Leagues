{
 "cells": [
  {
   "cell_type": "code",
   "execution_count": 113,
   "metadata": {},
   "outputs": [],
   "source": [
    "import numpy as np\n",
    "import pandas as pd\n",
    "from collections import defaultdict\n",
    "import matplotlib.pyplot as plt\n",
    "from statistics import mean"
   ]
  },
  {
   "cell_type": "code",
   "execution_count": 99,
   "metadata": {},
   "outputs": [],
   "source": [
    "prem_data = pd.read_csv(\"/Users/kabirparekh/Documents/Coding/Competitive-Soccer-Leagues-master/generatedDataset/premierLeague.csv\")"
   ]
  },
  {
   "cell_type": "code",
   "execution_count": 100,
   "metadata": {},
   "outputs": [
    {
     "data": {
      "text/html": [
       "<div>\n",
       "<style scoped>\n",
       "    .dataframe tbody tr th:only-of-type {\n",
       "        vertical-align: middle;\n",
       "    }\n",
       "\n",
       "    .dataframe tbody tr th {\n",
       "        vertical-align: top;\n",
       "    }\n",
       "\n",
       "    .dataframe thead th {\n",
       "        text-align: right;\n",
       "    }\n",
       "</style>\n",
       "<table border=\"1\" class=\"dataframe\">\n",
       "  <thead>\n",
       "    <tr style=\"text-align: right;\">\n",
       "      <th></th>\n",
       "      <th>TeamName</th>\n",
       "      <th>points</th>\n",
       "      <th>TotalWins</th>\n",
       "      <th>TotalDraws</th>\n",
       "      <th>TotalLosses</th>\n",
       "      <th>season</th>\n",
       "      <th>GoalsScored</th>\n",
       "      <th>GoalsConceded</th>\n",
       "      <th>GoalDifference</th>\n",
       "      <th>YellowCard</th>\n",
       "      <th>RedCard</th>\n",
       "      <th>totalFouls</th>\n",
       "    </tr>\n",
       "  </thead>\n",
       "  <tbody>\n",
       "    <tr>\n",
       "      <th>0</th>\n",
       "      <td>Man City</td>\n",
       "      <td>100</td>\n",
       "      <td>32</td>\n",
       "      <td>4</td>\n",
       "      <td>2</td>\n",
       "      <td>1718</td>\n",
       "      <td>106</td>\n",
       "      <td>27</td>\n",
       "      <td>79</td>\n",
       "      <td>58</td>\n",
       "      <td>2</td>\n",
       "      <td>344</td>\n",
       "    </tr>\n",
       "    <tr>\n",
       "      <th>1</th>\n",
       "      <td>Man City</td>\n",
       "      <td>98</td>\n",
       "      <td>32</td>\n",
       "      <td>2</td>\n",
       "      <td>4</td>\n",
       "      <td>1819</td>\n",
       "      <td>95</td>\n",
       "      <td>23</td>\n",
       "      <td>72</td>\n",
       "      <td>44</td>\n",
       "      <td>1</td>\n",
       "      <td>328</td>\n",
       "    </tr>\n",
       "    <tr>\n",
       "      <th>2</th>\n",
       "      <td>Liverpool</td>\n",
       "      <td>97</td>\n",
       "      <td>30</td>\n",
       "      <td>7</td>\n",
       "      <td>1</td>\n",
       "      <td>1819</td>\n",
       "      <td>89</td>\n",
       "      <td>22</td>\n",
       "      <td>67</td>\n",
       "      <td>37</td>\n",
       "      <td>2</td>\n",
       "      <td>315</td>\n",
       "    </tr>\n",
       "    <tr>\n",
       "      <th>3</th>\n",
       "      <td>Chelsea</td>\n",
       "      <td>93</td>\n",
       "      <td>30</td>\n",
       "      <td>3</td>\n",
       "      <td>5</td>\n",
       "      <td>1617</td>\n",
       "      <td>85</td>\n",
       "      <td>33</td>\n",
       "      <td>52</td>\n",
       "      <td>72</td>\n",
       "      <td>0</td>\n",
       "      <td>394</td>\n",
       "    </tr>\n",
       "    <tr>\n",
       "      <th>4</th>\n",
       "      <td>Chelsea</td>\n",
       "      <td>87</td>\n",
       "      <td>26</td>\n",
       "      <td>9</td>\n",
       "      <td>3</td>\n",
       "      <td>1415</td>\n",
       "      <td>73</td>\n",
       "      <td>32</td>\n",
       "      <td>41</td>\n",
       "      <td>77</td>\n",
       "      <td>4</td>\n",
       "      <td>382</td>\n",
       "    </tr>\n",
       "    <tr>\n",
       "      <th>...</th>\n",
       "      <td>...</td>\n",
       "      <td>...</td>\n",
       "      <td>...</td>\n",
       "      <td>...</td>\n",
       "      <td>...</td>\n",
       "      <td>...</td>\n",
       "      <td>...</td>\n",
       "      <td>...</td>\n",
       "      <td>...</td>\n",
       "      <td>...</td>\n",
       "      <td>...</td>\n",
       "      <td>...</td>\n",
       "    </tr>\n",
       "    <tr>\n",
       "      <th>95</th>\n",
       "      <td>Middlesbrough</td>\n",
       "      <td>28</td>\n",
       "      <td>5</td>\n",
       "      <td>13</td>\n",
       "      <td>20</td>\n",
       "      <td>1617</td>\n",
       "      <td>27</td>\n",
       "      <td>53</td>\n",
       "      <td>-26</td>\n",
       "      <td>76</td>\n",
       "      <td>1</td>\n",
       "      <td>478</td>\n",
       "    </tr>\n",
       "    <tr>\n",
       "      <th>96</th>\n",
       "      <td>Fulham</td>\n",
       "      <td>26</td>\n",
       "      <td>7</td>\n",
       "      <td>5</td>\n",
       "      <td>26</td>\n",
       "      <td>1819</td>\n",
       "      <td>34</td>\n",
       "      <td>81</td>\n",
       "      <td>-47</td>\n",
       "      <td>68</td>\n",
       "      <td>2</td>\n",
       "      <td>423</td>\n",
       "    </tr>\n",
       "    <tr>\n",
       "      <th>97</th>\n",
       "      <td>Sunderland</td>\n",
       "      <td>24</td>\n",
       "      <td>6</td>\n",
       "      <td>6</td>\n",
       "      <td>26</td>\n",
       "      <td>1617</td>\n",
       "      <td>29</td>\n",
       "      <td>69</td>\n",
       "      <td>-40</td>\n",
       "      <td>76</td>\n",
       "      <td>4</td>\n",
       "      <td>437</td>\n",
       "    </tr>\n",
       "    <tr>\n",
       "      <th>98</th>\n",
       "      <td>Aston Villa</td>\n",
       "      <td>17</td>\n",
       "      <td>3</td>\n",
       "      <td>8</td>\n",
       "      <td>27</td>\n",
       "      <td>1516</td>\n",
       "      <td>27</td>\n",
       "      <td>76</td>\n",
       "      <td>-49</td>\n",
       "      <td>75</td>\n",
       "      <td>3</td>\n",
       "      <td>431</td>\n",
       "    </tr>\n",
       "    <tr>\n",
       "      <th>99</th>\n",
       "      <td>Huddersfield</td>\n",
       "      <td>16</td>\n",
       "      <td>3</td>\n",
       "      <td>7</td>\n",
       "      <td>28</td>\n",
       "      <td>1819</td>\n",
       "      <td>22</td>\n",
       "      <td>76</td>\n",
       "      <td>-54</td>\n",
       "      <td>55</td>\n",
       "      <td>4</td>\n",
       "      <td>420</td>\n",
       "    </tr>\n",
       "  </tbody>\n",
       "</table>\n",
       "<p>100 rows × 12 columns</p>\n",
       "</div>"
      ],
      "text/plain": [
       "         TeamName  points  TotalWins  TotalDraws  TotalLosses  season  \\\n",
       "0        Man City     100         32           4            2    1718   \n",
       "1        Man City      98         32           2            4    1819   \n",
       "2       Liverpool      97         30           7            1    1819   \n",
       "3         Chelsea      93         30           3            5    1617   \n",
       "4         Chelsea      87         26           9            3    1415   \n",
       "..            ...     ...        ...         ...          ...     ...   \n",
       "95  Middlesbrough      28          5          13           20    1617   \n",
       "96         Fulham      26          7           5           26    1819   \n",
       "97     Sunderland      24          6           6           26    1617   \n",
       "98    Aston Villa      17          3           8           27    1516   \n",
       "99   Huddersfield      16          3           7           28    1819   \n",
       "\n",
       "    GoalsScored  GoalsConceded  GoalDifference  YellowCard  RedCard  \\\n",
       "0           106             27              79          58        2   \n",
       "1            95             23              72          44        1   \n",
       "2            89             22              67          37        2   \n",
       "3            85             33              52          72        0   \n",
       "4            73             32              41          77        4   \n",
       "..          ...            ...             ...         ...      ...   \n",
       "95           27             53             -26          76        1   \n",
       "96           34             81             -47          68        2   \n",
       "97           29             69             -40          76        4   \n",
       "98           27             76             -49          75        3   \n",
       "99           22             76             -54          55        4   \n",
       "\n",
       "    totalFouls  \n",
       "0          344  \n",
       "1          328  \n",
       "2          315  \n",
       "3          394  \n",
       "4          382  \n",
       "..         ...  \n",
       "95         478  \n",
       "96         423  \n",
       "97         437  \n",
       "98         431  \n",
       "99         420  \n",
       "\n",
       "[100 rows x 12 columns]"
      ]
     },
     "execution_count": 100,
     "metadata": {},
     "output_type": "execute_result"
    }
   ],
   "source": [
    "prem_data = prem_data.drop(['Unnamed: 0'], axis=1)"
   ]
  },
  {
   "cell_type": "code",
   "execution_count": 107,
   "metadata": {},
   "outputs": [],
   "source": [
    "prem_data_15 = prem_data[prem_data['season'] == 1415].sort_values(by = ['points', 'GoalDifference'], ascending = False)\n",
    "prem_data_16 = prem_data[prem_data['season'] == 1516].sort_values(by = ['points', 'GoalDifference'], ascending = False)\n",
    "prem_data_17 = prem_data[prem_data['season'] == 1617].sort_values(by = ['points', 'GoalDifference'], ascending = False)\n",
    "prem_data_18 = prem_data[prem_data['season'] == 1718].sort_values(by = ['points', 'GoalDifference'], ascending = False)\n",
    "prem_data_19 = prem_data[prem_data['season'] == 1819].sort_values(by = ['points', 'GoalDifference'], ascending = False)\n",
    "seasons = [prem_data_15, prem_data_16, prem_data_17, prem_data_18,prem_data_19]"
   ]
  },
  {
   "cell_type": "code",
   "execution_count": 131,
   "metadata": {},
   "outputs": [
    {
     "data": {
      "text/plain": [
       "([0.24, 0.28, 0.22, 0.26, 0.24],\n",
       " [0.38, 0.36, 0.39, 0.37, 0.38],\n",
       " [0.38, 0.36, 0.39, 0.37, 0.38])"
      ]
     },
     "execution_count": 131,
     "metadata": {},
     "output_type": "execute_result"
    }
   ],
   "source": [
    "avg_draws = [round(mean(list(prem_data_15['TotalDraws']))/38, 2), round(mean(list(prem_data_16['TotalDraws']))/38, 2), round(mean(list(prem_data_17['TotalDraws']))/38, 2), round(mean(list(prem_data_18['TotalDraws']))/38, 2), round(mean(list(prem_data_15['TotalDraws']))/38, 2)]\n",
    "avg_wins = [round(mean(list(prem_data_15['TotalWins']))/38, 2), round(mean(list(prem_data_16['TotalWins']))/38, 2), round(mean(list(prem_data_17['TotalWins']))/38, 2), round(mean(list(prem_data_18['TotalWins']))/38, 2), round(mean(list(prem_data_15['TotalWins']))/38, 2)]\n",
    "avg_losses = [round(mean(list(prem_data_15['TotalLosses']))/38, 2), round(mean(list(prem_data_16['TotalLosses']))/38, 2), round(mean(list(prem_data_17['TotalLosses']))/38, 2), round(mean(list(prem_data_18['TotalLosses']))/38, 2), round(mean(list(prem_data_15['TotalLosses']))/38, 2)]\n",
    "avg_draws, avg_wins, avg_losses"
   ]
  },
  {
   "cell_type": "code",
   "execution_count": 157,
   "metadata": {},
   "outputs": [
    {
     "data": {
      "image/png": "[encoded data removed]",
      "text/plain": [
       "<Figure size 432x288 with 1 Axes>"
      ]
     },
     "metadata": {
      "needs_background": "light"
     },
     "output_type": "display_data"
    },
    {
     "data": {
      "image/png": "[encoded data removed]",
      "text/plain": [
       "<Figure size 432x288 with 1 Axes>"
      ]
     },
     "metadata": {
      "needs_background": "light"
     },
     "output_type": "display_data"
    },
    {
     "data": {
      "image/png": "[encoded data removed]",
      "text/plain": [
       "<Figure size 432x288 with 1 Axes>"
      ]
     },
     "metadata": {
      "needs_background": "light"
     },
     "output_type": "display_data"
    },
    {
     "data": {
      "image/png": "[encoded data removed]",
      "text/plain": [
       "<Figure size 432x288 with 1 Axes>"
      ]
     },
     "metadata": {
      "needs_background": "light"
     },
     "output_type": "display_data"
    },
    {
     "data": {
      "image/png": "[encoded data removed]",
      "text/plain": [
       "<Figure size 432x288 with 1 Axes>"
      ]
     },
     "metadata": {
      "needs_background": "light"
     },
     "output_type": "display_data"
    }
   ],
   "source": [
    "for season in seasons:\n",
    "    season.plot('TeamName', 'points', kind = 'barh')"
   ]
  },
  {
   "cell_type": "code",
   "execution_count": 124,
   "metadata": {},
   "outputs": [],
   "source": [
    "top_four_teams = []\n",
    "team_standing = defaultdict(list)\n",
    "for i in range(len(seasons)):\n",
    "    top_four_teams.append(list(seasons[i].head(4)['TeamName']))\n",
    "    count = 1\n",
    "    for team in seasons[i]['TeamName']:\n",
    "        team_standing[team].append(count)\n",
    "        count += 1    "
   ]
  },
  {
   "cell_type": "code",
   "execution_count": 125,
   "metadata": {},
   "outputs": [],
   "source": [
    "unique_top_four_teams = dict()\n",
    "for i in range(len(top_four_teams)):\n",
    "    for j in range(4):\n",
    "        if top_four_teams[i][j] not in unique_top_four_teams:\n",
    "            unique_top_four_teams[top_four_teams[i][j]] = 1\n",
    "        else:\n",
    "            unique_top_four_teams[top_four_teams[i][j]] += 1"
   ]
  },
  {
   "cell_type": "code",
   "execution_count": 126,
   "metadata": {},
   "outputs": [
    {
     "data": {
      "text/plain": [
       "{'Chelsea': 3,\n",
       " 'Man City': 5,\n",
       " 'Arsenal': 2,\n",
       " 'Man United': 2,\n",
       " 'Leicester': 1,\n",
       " 'Tottenham': 4,\n",
       " 'Liverpool': 3}"
      ]
     },
     "execution_count": 126,
     "metadata": {},
     "output_type": "execute_result"
    }
   ],
   "source": [
    "unique_top_four_teams"
   ]
  },
  {
   "cell_type": "code",
   "execution_count": 158,
   "metadata": {},
   "outputs": [
    {
     "data": {
      "text/plain": [
       "defaultdict(list,\n",
       "            {'Chelsea': [[4.0, 3.0]],\n",
       "             'Man City': [[2.2, 2.0]],\n",
       "             'Arsenal': [[4.2, 5.0]],\n",
       "             'Man United': [[4.6, 5.0]],\n",
       "             'Tottenham': [[3.4, 3.0]],\n",
       "             'Liverpool': [[4.8, 4.0]],\n",
       "             'Southampton': [[10.8, 8.0]],\n",
       "             'Swansea': [[13.25, 13.5]],\n",
       "             'Stoke': [[12.25, 10.5]],\n",
       "             'Crystal Palace': [[12.4, 12.0]],\n",
       "             'Everton': [[9.0, 8.0]],\n",
       "             'West Ham': [[10.6, 11.0]],\n",
       "             'West Brom': [[14.25, 13.5]],\n",
       "             'Leicester': [[9.2, 9.0]],\n",
       "             'Newcastle': [[14.0, 14.0]],\n",
       "             'Sunderland': [[17.666666666666668, 17.0]],\n",
       "             'Aston Villa': [[18.5, 18.5]],\n",
       "             'Hull': [[18.0, 18.0]],\n",
       "             'Burnley': [[14.25, 15.5]],\n",
       "             'QPR': [[20.0, 20.0]],\n",
       "             'Watford': [[13.75, 13.5]],\n",
       "             'Bournemouth': [[12.75, 13.0]],\n",
       "             'Norwich': [[19.0, 19.0]],\n",
       "             'Middlesbrough': [[19.0, 19.0]],\n",
       "             'Brighton': [[16.0, 16.0]],\n",
       "             'Huddersfield': [[18.0, 18.0]],\n",
       "             'Wolves': [[7.0, 7.0]],\n",
       "             'Cardiff': [[18.0, 18.0]],\n",
       "             'Fulham': [[19.0, 19.0]]})"
      ]
     },
     "execution_count": 158,
     "metadata": {},
     "output_type": "execute_result"
    }
   ],
   "source": [
    "team_standing_avs = defaultdict(list)\n",
    "for team in team_standing.keys():\n",
    "    team_standing_avs[team].append([np.mean(team_standing[team]), np.median(team_standing[team])])\n",
    "\n",
    "team_standing_avs"
   ]
  },
  {
   "cell_type": "code",
   "execution_count": 142,
   "metadata": {},
   "outputs": [
    {
     "data": {
      "text/plain": [
       "[0.24, 0.28, 0.22, 0.26, 0.24]"
      ]
     },
     "execution_count": 142,
     "metadata": {},
     "output_type": "execute_result"
    }
   ],
   "source": []
  },
  {
   "cell_type": "code",
   "execution_count": null,
   "metadata": {},
   "outputs": [],
   "source": []
  }
 ],
 "metadata": {
  "kernelspec": {
   "display_name": "Python 3",
   "language": "python",
   "name": "python3"
  },
  "language_info": {
   "codemirror_mode": {
    "name": "ipython",
    "version": 3
   },
   "file_extension": ".py",
   "mimetype": "text/x-python",
   "name": "python",
   "nbconvert_exporter": "python",
   "pygments_lexer": "ipython3",
   "version": "3.7.6"
  }
 },
 "nbformat": 4,
 "nbformat_minor": 4
}
